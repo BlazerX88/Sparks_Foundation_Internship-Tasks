{
  "nbformat": 4,
  "nbformat_minor": 0,
  "metadata": {
    "colab": {
      "name": "Sparks Foundation Task_2.ipynb",
      "provenance": [],
      "collapsed_sections": []
    },
    "kernelspec": {
      "name": "python3",
      "display_name": "Python 3"
    }
  },
  "cells": [
    {
      "cell_type": "code",
      "metadata": {
        "id": "JjRSSUAuGMdp",
        "colab_type": "code",
        "colab": {}
      },
      "source": [
        "# Importing all libraries required in this notebook\n",
        "import pandas as pd\n",
        "import numpy as np  \n",
        "import matplotlib.pyplot as plt  \n",
        "%matplotlib inline"
      ],
      "execution_count": 16,
      "outputs": []
    },
    {
      "cell_type": "markdown",
      "metadata": {
        "id": "MO05NIgVPubW",
        "colab_type": "text"
      },
      "source": [
        "IMPORTING THE DATA"
      ]
    },
    {
      "cell_type": "code",
      "metadata": {
        "id": "hnuLJa2RGd9T",
        "colab_type": "code",
        "colab": {}
      },
      "source": [
        "# Reading data from remote link\n",
        "url = \"http://bit.ly/w-data\"\n",
        "s = pd.read_csv(url)\n",
        "\n",
        "\n",
        "s.head(10)"
      ],
      "execution_count": null,
      "outputs": []
    },
    {
      "cell_type": "markdown",
      "metadata": {
        "id": "UACrqev_HAcC",
        "colab_type": "text"
      },
      "source": [
        "PLOTTING THE DISTRIBUTION OF SCORE\n"
      ]
    },
    {
      "cell_type": "code",
      "metadata": {
        "id": "THOI0mg3G_Gb",
        "colab_type": "code",
        "colab": {}
      },
      "source": [
        "import plotly.express as px\n",
        "fig = px.scatter(s,x=\"Hours\",y=\"Scores\",title=\"Hours-Scores Scale\")\n",
        "fig.show()"
      ],
      "execution_count": null,
      "outputs": []
    },
    {
      "cell_type": "markdown",
      "metadata": {
        "id": "X5ny6PkmKijq",
        "colab_type": "text"
      },
      "source": [
        "DESCRIBING THE DATA"
      ]
    },
    {
      "cell_type": "code",
      "metadata": {
        "id": "6LGBU3VyKDCV",
        "colab_type": "code",
        "colab": {}
      },
      "source": [
        "s.describe()"
      ],
      "execution_count": null,
      "outputs": []
    },
    {
      "cell_type": "markdown",
      "metadata": {
        "id": "aQ1mlSDXL1CO",
        "colab_type": "text"
      },
      "source": [
        "CHECKING ANY NULL VALUE IN THE DATA SET"
      ]
    },
    {
      "cell_type": "code",
      "metadata": {
        "id": "5OXogr9tKsQX",
        "colab_type": "code",
        "colab": {}
      },
      "source": [
        "s.isnull().sum()"
      ],
      "execution_count": null,
      "outputs": []
    },
    {
      "cell_type": "markdown",
      "metadata": {
        "id": "q6BewXeAOFgk",
        "colab_type": "text"
      },
      "source": [
        "ORDINARY LEAST SQUARE DETECTION"
      ]
    },
    {
      "cell_type": "code",
      "metadata": {
        "id": "3QFC57WIOElH",
        "colab_type": "code",
        "colab": {}
      },
      "source": [
        "import plotly.express as px\n",
        "img = px.scatter(s,x='Hours',y='Scores',trendline='ols',title='ordinary least square detection scale')\n",
        "img.show()"
      ],
      "execution_count": null,
      "outputs": []
    },
    {
      "cell_type": "markdown",
      "metadata": {
        "id": "j6xb-ht7Qrjl",
        "colab_type": "text"
      },
      "source": [
        "PREPARING THE DATA"
      ]
    },
    {
      "cell_type": "code",
      "metadata": {
        "id": "zFgNbL6qQpaP",
        "colab_type": "code",
        "colab": {}
      },
      "source": [
        "x = s.iloc[:, :-1].values  \n",
        "y = s.iloc[:, 1].values  "
      ],
      "execution_count": 24,
      "outputs": []
    },
    {
      "cell_type": "markdown",
      "metadata": {
        "id": "zszhzAlMRCst",
        "colab_type": "text"
      },
      "source": [
        "SPLITTING THE DATASET INTO TRAINING AND TESTING SET"
      ]
    },
    {
      "cell_type": "code",
      "metadata": {
        "id": "pHwaEtkARCbO",
        "colab_type": "code",
        "colab": {}
      },
      "source": [
        "from sklearn.model_selection import train_test_split  \n",
        "x_train, x_test, y_train, y_test = train_test_split(x, y, \n",
        "                            test_size=0.2, random_state=0) "
      ],
      "execution_count": 25,
      "outputs": []
    },
    {
      "cell_type": "code",
      "metadata": {
        "id": "hyztJHshRcjd",
        "colab_type": "code",
        "colab": {}
      },
      "source": [
        "print(\"Observation in the training set:\",(x_train),len(x_train))\n",
        "print(\"Observstion in the testing set:\",(x_test),len(x_test))"
      ],
      "execution_count": null,
      "outputs": []
    },
    {
      "cell_type": "markdown",
      "metadata": {
        "id": "DxiNRALESgPW",
        "colab_type": "text"
      },
      "source": [
        "FITTING THE TRAINING SET\n"
      ]
    },
    {
      "cell_type": "code",
      "metadata": {
        "id": "fbzLOSzySeLH",
        "colab_type": "code",
        "colab": {}
      },
      "source": [
        "from sklearn.linear_model import LinearRegression  \n",
        "regressor = LinearRegression()  \n",
        "regressor.fit(x_train, y_train) \n",
        "\n",
        "print(\"Success\")"
      ],
      "execution_count": null,
      "outputs": []
    },
    {
      "cell_type": "markdown",
      "metadata": {
        "id": "XGEGHxDyS_IX",
        "colab_type": "text"
      },
      "source": [
        "PLOTTING THE REGRESSION LINE"
      ]
    },
    {
      "cell_type": "code",
      "metadata": {
        "id": "sbJy1uJAS-Ym",
        "colab_type": "code",
        "colab": {}
      },
      "source": [
        "line = regressor.coef_*x+regressor.intercept_\n",
        "plt.scatter(x, y)\n",
        "plt.plot(x, line);\n",
        "plt.show()"
      ],
      "execution_count": null,
      "outputs": []
    },
    {
      "cell_type": "markdown",
      "metadata": {
        "id": "ZSTqSW6iTg9P",
        "colab_type": "text"
      },
      "source": [
        "MAKING PREDICTIONS"
      ]
    },
    {
      "cell_type": "code",
      "metadata": {
        "id": "YpOB6RKSTdTp",
        "colab_type": "code",
        "colab": {}
      },
      "source": [
        "print(x_test) \n",
        "y_pred = regressor.predict(x_test) "
      ],
      "execution_count": null,
      "outputs": []
    },
    {
      "cell_type": "markdown",
      "metadata": {
        "id": "0sSIXcfPT2a-",
        "colab_type": "text"
      },
      "source": [
        "COMPARING ACTUAL VS PREDCITED"
      ]
    },
    {
      "cell_type": "code",
      "metadata": {
        "id": "E2BOOVgkT19O",
        "colab_type": "code",
        "colab": {}
      },
      "source": [
        "\n",
        "df = pd.DataFrame({'Actual': y_test, 'Predicted': y_pred})  \n",
        "df "
      ],
      "execution_count": null,
      "outputs": []
    },
    {
      "cell_type": "markdown",
      "metadata": {
        "id": "e1a4apCRUVM2",
        "colab_type": "text"
      },
      "source": [
        "VISUALIZING THE RESULT OF TRAINING SET IN MATPLOLIB"
      ]
    },
    {
      "cell_type": "code",
      "metadata": {
        "id": "93m33zoQUU0w",
        "colab_type": "code",
        "colab": {}
      },
      "source": [
        "import matplotlib.pyplot as plt\n",
        "plt.scatter(x_train,y_train,color = \"blue\")\n",
        "plt.plot(x_train,regressor.predict(x_train),color = \"green\")\n",
        "plt.title(\"Hours vs Score (Training set)\")\n",
        "plt.xlabel(\"Hours\")\n",
        "plt.ylabel(\"Scores\")\n",
        "plt.show()"
      ],
      "execution_count": null,
      "outputs": []
    },
    {
      "cell_type": "markdown",
      "metadata": {
        "id": "4-6_AZFpVuFo",
        "colab_type": "text"
      },
      "source": [
        "VISUALIZING THE RESULT OF TESTING SET IN MATPLOLIB"
      ]
    },
    {
      "cell_type": "code",
      "metadata": {
        "id": "baGGVb4dV14v",
        "colab_type": "code",
        "colab": {}
      },
      "source": [
        "import matplotlib.pyplot as plt\n",
        "plt.scatter(x_test,y_test,color = \"black\")\n",
        "plt.plot(x_test,regressor.predict(x_test),color = \"red\")\n",
        "plt.title(\"Hours vs Score (Testing set)\")\n",
        "plt.xlabel(\"Hours\")\n",
        "plt.ylabel(\"Scores\")\n",
        "plt.show()"
      ],
      "execution_count": null,
      "outputs": []
    },
    {
      "cell_type": "code",
      "metadata": {
        "id": "UlwR91tJWpkY",
        "colab_type": "code",
        "colab": {}
      },
      "source": [
        "hours = 9.25\n",
        "own_pred = regressor.predict([[hours]])\n",
        "print(\"No of hours = {}\".format(hours))\n",
        "print(\"Predicted Score = {}\".format(own_pred[0]))"
      ],
      "execution_count": null,
      "outputs": []
    },
    {
      "cell_type": "markdown",
      "metadata": {
        "id": "bN3zjriUXubZ",
        "colab_type": "text"
      },
      "source": [
        "EVALUATING THE MODEL"
      ]
    },
    {
      "cell_type": "code",
      "metadata": {
        "id": "qZ3uDqZ9Xxfo",
        "colab_type": "code",
        "colab": {
          "base_uri": "https://localhost:8080/",
          "height": 34
        },
        "outputId": "1d2599a7-f162-4be2-c636-72f17c39e727"
      },
      "source": [
        "from sklearn import metrics  \n",
        "print('Mean Absolute Error:', \n",
        "      metrics.mean_absolute_error(y_test, y_pred)) "
      ],
      "execution_count": 38,
      "outputs": [
        {
          "output_type": "stream",
          "text": [
            "Mean Absolute Error: 4.183859899002982\n"
          ],
          "name": "stdout"
        }
      ]
    }
  ]
}